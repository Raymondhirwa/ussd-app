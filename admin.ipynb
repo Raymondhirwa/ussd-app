{
 "cells": [
  {
   "cell_type": "code",
   "execution_count": 1,
   "id": "3538601b",
   "metadata": {},
   "outputs": [
    {
     "ename": "NameError",
     "evalue": "name 'app' is not defined",
     "output_type": "error",
     "traceback": [
      "\u001b[1;31m---------------------------------------------------------------------------\u001b[0m",
      "\u001b[1;31mNameError\u001b[0m                                 Traceback (most recent call last)",
      "Cell \u001b[1;32mIn[1], line 5\u001b[0m\n\u001b[0;32m      2\u001b[0m \u001b[38;5;28;01mimport\u001b[39;00m\u001b[38;5;250m \u001b[39m\u001b[38;5;21;01mmysql\u001b[39;00m\u001b[38;5;21;01m.\u001b[39;00m\u001b[38;5;21;01mconnector\u001b[39;00m\n\u001b[0;32m      3\u001b[0m \u001b[38;5;28;01mimport\u001b[39;00m\u001b[38;5;250m \u001b[39m\u001b[38;5;21;01mtime\u001b[39;00m\n\u001b[1;32m----> 5\u001b[0m \u001b[43mapp\u001b[49m\u001b[38;5;241m.\u001b[39msecret_key \u001b[38;5;241m=\u001b[39m \u001b[38;5;124m'\u001b[39m\u001b[38;5;124mverysecret\u001b[39m\u001b[38;5;124m'\u001b[39m\n\u001b[0;32m      7\u001b[0m db \u001b[38;5;241m=\u001b[39m mysql\u001b[38;5;241m.\u001b[39mconnector\u001b[38;5;241m.\u001b[39mconnect(\n\u001b[0;32m      8\u001b[0m     host\u001b[38;5;241m=\u001b[39m\u001b[38;5;124m\"\u001b[39m\u001b[38;5;124mcrossover.proxy.rlwy.net\u001b[39m\u001b[38;5;124m\"\u001b[39m,\n\u001b[0;32m      9\u001b[0m     user\u001b[38;5;241m=\u001b[39m\u001b[38;5;124m\"\u001b[39m\u001b[38;5;124mroot\u001b[39m\u001b[38;5;124m\"\u001b[39m,\n\u001b[1;32m   (...)\u001b[0m\n\u001b[0;32m     12\u001b[0m     port\u001b[38;5;241m=\u001b[39m\u001b[38;5;241m29472\u001b[39m\n\u001b[0;32m     13\u001b[0m )\n\u001b[0;32m     15\u001b[0m cursor \u001b[38;5;241m=\u001b[39m db\u001b[38;5;241m.\u001b[39mcursor(dictionary\u001b[38;5;241m=\u001b[39m\u001b[38;5;28;01mTrue\u001b[39;00m)\n",
      "\u001b[1;31mNameError\u001b[0m: name 'app' is not defined"
     ]
    }
   ],
   "source": [
    "from flask import Flask, request, jsonify, session, redirect, render_template_string\n",
    "import mysql.connector\n",
    "import time\n",
    "\n",
    "app.secret_key = 'verysecret'\n",
    "\n",
    "db = mysql.connector.connect(\n",
    "    host=\"crossover.proxy.rlwy.net\",\n",
    "    user=\"root\",\n",
    "    password=\"BBYoZaaPxAdwlLnJzHzaowpwXZBWMhCG\",\n",
    "    database=\"railway\",\n",
    "    port=29472\n",
    ")\n",
    "\n",
    "cursor = db.cursor(dictionary=True)\n",
    "\n",
    "# Admin login page\n",
    "@app.route(\"/admin\", methods=[\"GET\", \"POST\"])\n",
    "def admin_login():\n",
    "    if request.method == \"POST\":\n",
    "        username = request.form[\"username\"]\n",
    "        password = request.form[\"password\"]\n",
    "        cursor.execute(\"SELECT * FROM admins WHERE username=%s AND password=%s\", (username, password))\n",
    "        admin = cursor.fetchone()\n",
    "        if admin:\n",
    "            session[\"admin\"] = admin[\"username\"]\n",
    "            return redirect(\"/dashboard\")\n",
    "        else:\n",
    "            return \"Invalid credentials\"\n",
    "    return render_template_string(\"\"\"\n",
    "    <form method=\"post\">\n",
    "        <input name=\"username\" placeholder=\"Username\"><br>\n",
    "        <input name=\"password\" type=\"password\" placeholder=\"Password\"><br>\n",
    "        <input type=\"submit\" value=\"Login\">\n",
    "    </form>\n",
    "    \"\"\")\n",
    "\n",
    "# Admin dashboard\n",
    "@app.route(\"/dashboard\")\n",
    "def admin_dashboard():\n",
    "    if \"admin\" not in session:\n",
    "        return redirect(\"/admin\")\n",
    "    cursor.execute(\"SELECT * FROM appeals\")\n",
    "    rows = cursor.fetchall()\n",
    "    table = \"<h3>Appeals Dashboard</h3><table border=1><tr><th>ID</th><th>Student</th><th>Module</th><th>Reason</th><th>Status</th><th>Action</th></tr>\"\n",
    "    for row in rows:\n",
    "        table += f\"<tr><td>{row['id']}</td><td>{row['student_id']}</td><td>{row['module']}</td><td>{row['reason']}</td><td>{row['status']}</td><td><a href='/resolve/{row['id']}'>Resolve</a></td></tr>\"\n",
    "    table += \"</table>\"\n",
    "    return table + \"<br><a href='/logout'>Logout</a>\"\n",
    "\n",
    "# Mark as resolved\n",
    "@app.route(\"/resolve/<int:appeal_id>\")\n",
    "def resolve_appeal(appeal_id):\n",
    "    if \"admin\" not in session:\n",
    "        return redirect(\"/admin\")\n",
    "    cursor.execute(\"UPDATE appeals SET status='resolved' WHERE id=%s\", (appeal_id,))\n",
    "    db.commit()\n",
    "    return redirect(\"/dashboard\")\n",
    "\n",
    "# Logout admin\n",
    "@app.route(\"/logout\")\n",
    "def logout():\n",
    "    session.pop(\"admin\", None)\n",
    "    return redirect(\"/admin\")\n"
   ]
  },
  {
   "cell_type": "markdown",
   "id": "b12f22b3",
   "metadata": {},
   "source": []
  }
 ],
 "metadata": {
  "kernelspec": {
   "display_name": "Python 3",
   "language": "python",
   "name": "python3"
  },
  "language_info": {
   "codemirror_mode": {
    "name": "ipython",
    "version": 3
   },
   "file_extension": ".py",
   "mimetype": "text/x-python",
   "name": "python",
   "nbconvert_exporter": "python",
   "pygments_lexer": "ipython3",
   "version": "3.10.0"
  }
 },
 "nbformat": 4,
 "nbformat_minor": 5
}
